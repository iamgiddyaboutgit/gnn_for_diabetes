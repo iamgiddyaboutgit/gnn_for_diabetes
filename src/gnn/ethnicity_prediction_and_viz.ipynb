{
 "cells": [
  {
   "cell_type": "code",
   "execution_count": null,
   "metadata": {},
   "outputs": [],
   "source": [
    "import os\n",
    "import torch\n",
    "from torchmetrics.classification import MulticlassAUROC\n",
    "from torch_geometric.loader import DataLoader\n",
    "from IPython.display import Javascript"
   ]
  },
  {
   "cell_type": "code",
   "execution_count": null,
   "metadata": {},
   "outputs": [],
   "source": [
    "print(torch.cuda.is_available())\n",
    "device = torch.device(\"cuda\" if torch.cuda.is_available() else \"cpu\")"
   ]
  },
  {
   "cell_type": "code",
   "execution_count": null,
   "metadata": {},
   "outputs": [],
   "source": [
    "batch_size=64\n",
    "train_loader = DataLoader(train_dataset, batch_size=batch_size, shuffle=True)\n",
    "valid_loader = DataLoader(valid_dataset, batch_size=batch_size, shuffle=False)\n",
    "\n",
    "for step, data in enumerate(train_loader):\n",
    "    print(f'Step {step + 1}:')\n",
    "    print('=======')\n",
    "    print(f'Number of graphs in the current batch: {data.num_graphs}')\n",
    "    print(data)"
   ]
  },
  {
   "cell_type": "code",
   "execution_count": null,
   "metadata": {},
   "outputs": [],
   "source": [
    "def graph_test(model, loss_fn, loader, device):\n",
    "     \"\"\"\n",
    "     model: pytorch GNN model\n",
    "     loss_fn: loss function\n",
    "     loader: DataLoader\n",
    "     device: device eused to bind the model and tensor\n",
    "     \"\"\"\n",
    "     model.eval()\n",
    "     auroc_score = 0.0\n",
    "     ml_auroc = MulticlassAUROC(2, average='macro')\n",
    "     preds = None\n",
    "     labels = None\n",
    "\n",
    "     with torch.no_grad():\n",
    "          for data in loader:\n",
    "               out = model(data.x.to(device), data.edge_index.to(device), data.batch.to(device))\n",
    "\n",
    "               if preds is None:\n",
    "                    preds = out\n",
    "               else:\n",
    "                    preds = torch.cat((preds, out))\n",
    "\n",
    "               if labels is None:\n",
    "                    labels = data.y.to(device).long()\n",
    "               else:\n",
    "                    labels = torch.cat((labels, data.y.to(device).long()))\n",
    "     \n",
    "     auroc_score = ml_auroc(preds, labels) \n",
    "     \n",
    "        \n",
    "     return auroc_score"
   ]
  },
  {
   "cell_type": "code",
   "execution_count": null,
   "metadata": {},
   "outputs": [],
   "source": [
    "from model.GraphConvNet import GNN\n",
    "\n",
    "model = GNN()\n",
    "\n",
    "learning_rate = 1e-3\n",
    "epoch_num = 200\n",
    "optimizer = torch.optim.Adam(model.parameters(), lr=learning_rate)\n",
    "loss_fn = torch.nn.CrossEntropyLoss()"
   ]
  },
  {
   "cell_type": "code",
   "execution_count": null,
   "metadata": {},
   "outputs": [],
   "source": [
    "display(Javascript('''google.colab.output.setIframeHeight(0, true, {maxHeight: 300})'''))\n",
    "\n",
    "def train():\n",
    "    model.train()\n",
    "    total_loss = 0.0\n",
    "    for data in train_loader:  # Iterate in batches over the training dataset.\n",
    "        out = model(data.x.to(device), data.edge_index.to(device), data.batch.to(device))  # Perform a single forward pass.\n",
    "        loss = loss_fn(out, data.y.to(device))  # Compute the loss.\n",
    "        total_loss += loss\n",
    "        loss.backward()  # Derive gradients.\n",
    "        optimizer.step()  # Update parameters based on gradients.\n",
    "        optimizer.zero_grad()  # Clear gradients.\n",
    "    return total_loss / len(train_loader)\n",
    "\n",
    "for epoch in range(epoch_num):\n",
    "    train_loss = train()\n",
    "    train_auroc = graph_test(model, loss_fn, train_loader, device)\n",
    "    valid_auroc = graph_test(model, loss_fn, valid_loader, device)\n",
    "    print(f'Epoch: {epoch:03d}, Train Loss: {train_loss:.5f}, Train Auc: {train_auroc:.4f}, Valid Auc: {valid_auroc:.4f}')"
   ]
  }
 ],
 "metadata": {
  "kernelspec": {
   "display_name": "mlb",
   "language": "python",
   "name": "python3"
  },
  "language_info": {
   "name": "python",
   "version": "3.10.9"
  },
  "orig_nbformat": 4
 },
 "nbformat": 4,
 "nbformat_minor": 2
}
